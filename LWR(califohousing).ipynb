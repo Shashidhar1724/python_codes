import numpy as np, pandas as pd, matplotlib.pyplot as plt

def lwr(X, Y, tau, x):  
    w = np.exp(-np.sum((X - x)**2, axis=1) / (2 * tau**2))
    Xb = np.c_[np.ones(X.shape[0]), X]
    W = np.diag(w)
    return np.r_[1, x] @ np.linalg.pinv(Xb.T @ W @ Xb) @ Xb.T @ W @ Y

d = pd.read_csv('housing.csv')
X, Y = d[['housing_median_age']].values, d['median_house_value'].values
xq = np.array([10, 20, 30, 40, 50])
tau = 10
preds = [lwr(X, Y, tau, [x]) for x in xq]

for x, y in zip(xq, preds):
    print(f"Age {x}: {y:.2f}")

# Plot
plt.scatter(X, Y, c='blue', alpha=0.5, label='Data')
plt.scatter(xq, preds, c='red', label='Predictions')
plt.xlabel('Housing Median Age')
plt.ylabel('Median House Value')
plt.legend()
plt.show()

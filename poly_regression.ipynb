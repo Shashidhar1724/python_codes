import numpy as np
import matplotlib.pyplot as plt
import pandas as pd

from sklearn.linear_model import LinearRegression
from sklearn.preprocessing import PolynomialFeatures
df = pd.read_csv('testdata.csv')
df.head()

temperature = df.iloc[:, 1:2].values #Input 
preasure = df.iloc[:, 2].values #output
polyreg = PolynomialFeatures(degree=3)
X_poly = polyreg.fit_transform(temperature) 
linreg = LinearRegression()
linreg.fit(X_poly, preasure) 

predicted_preasure = linreg.predict(X_poly)

#Visualising the results
plt.scatter(temperature, preasure, color='red')
plt.scatter(temperature, predicted_preasure, color='blue')
plt.title('Temperature vs Preasure')
plt.xlabel('Temperature')
plt.ylabel('Preasure')
plt.legend(['Real Data', 'Predicted'])
plt.grid()
plt.show()

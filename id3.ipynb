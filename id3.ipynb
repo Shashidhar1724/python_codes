import pandas as pd
from sklearn.tree import DecisionTreeClassifier
dataset = pd.read_csv('zoo.csv') #Consists of 100 entries. 
dataset.info() 

dataset = dataset=dataset.drop('animal_name',axis=1)  
percentage_of_data = 80
train_features = dataset.iloc[:percentage_of_data,:-1]  
train_labels = dataset.iloc[:percentage_of_data,-1]

test_features = dataset.iloc[percentage_of_data:,:-1] 
test_labels = dataset.iloc[percentage_of_data:,-1]

#training the model
tree_model = DecisionTreeClassifier(criterion = 'entropy')  
fit_tree_model = tree_model.fit(train_features,train_labels) 
prediction = fit_tree_model.predict(test_features) 
print("The predicted labels are: ", prediction)

accuracy = (prediction == test_labels).sum() / len(test_labels) 
print("The accuracy of the model is: ", round(accuracy*100,2), "%") 

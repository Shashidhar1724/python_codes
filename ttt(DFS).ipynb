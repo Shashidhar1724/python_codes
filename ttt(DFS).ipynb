def print_board(b):
    for r in b: print(" | ".join(r)); print("-"*9)

def win(b,p):
    return any(all(x==p for x in line) for line in b + list(zip(*b)) + [[b[i][i] for i in range(3)], [b[i][2-i] for i in range(3)]])

def draw(b): return all(c != " " for row in b for c in row)

def move_ai(b, p):
    for r in range(3):
        for c in range(3):
            if b[r][c] == " ":
                b[r][c] = p
                if win(b, p): b[r][c] = " "; return r, c
                b[r][c] = " "
    for r in range(3):
        for c in range(3):
            if b[r][c] == " ": return r, c

b = [[" "]*3 for _ in range(3)]
for turn in range(9):
    print_board(b)
    p = "X" if turn % 2 == 0 else "O"
    if p == "X":
        r, c = map(int, input("Enter row and col (0-2): ").split())
    else:
        print("AI is thinking...")
        r, c = move_ai(b, p)
    if 0 <= r < 3 and 0 <= c < 3 and b[r][c] == " ":
        b[r][c] = p
        if win(b, p): print_board(b); print(f"{p} wins!"); break
    else:
        print("Invalid move."); continue
else:
    print_board(b); print("It's a draw!")

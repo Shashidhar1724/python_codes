import os
import numpy as np
from PIL import Image
import matplotlib.pyplot as plt

dataset_path = 'E:/Department/UG2024_25/ML/MLLab/OlivettiDataset'

# Read one image from this dataset and show the image
img_path = os.path.join(dataset_path, 's1', '1.pgm')  


img = Image.open(img_path).convert('L')  # Convert to grayscale
img.show()  # Display the image in a saperate application window, let not do this

# Lets show the image in notebook itself using imshow
plt.imshow(np.array(img), cmap='gray')
plt.axis('off')  # Hide axes
plt.title('Example Image')
plt.show()

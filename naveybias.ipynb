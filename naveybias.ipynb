import numpy as np
import matplotlib.pyplot as plt
import seaborn as sns
from sklearn.datasets import fetch_olivetti_faces
from sklearn.model_selection import train_test_split
from sklearn.decomposition import PCA
from sklearn.naive_bayes import GaussianNB
from sklearn.metrics import classification_report, confusion_matrix

# Load dataset
data = fetch_olivetti_faces(shuffle=True, random_state=42)
X, y, images = data.data, data.target, data.images

# Display first 10 images
fig, axes = plt.subplots(2, 5, figsize=(10, 5))
for i, ax in enumerate(axes.flat):
    ax.imshow(images[i], cmap='gray')
    ax.set_title(f"Class: {y[i]}")
    ax.axis('off')
plt.suptitle("Olivetti Faces - First 10 Samples")
plt.tight_layout()
plt.show()

# Split data & apply PCA
X_train, X_test, y_train, y_test = train_test_split(X, y, test_size=0.2, random_state=42)
X_train_pca = PCA(n_components=100, whiten=True).fit_transform(X_train)
X_test_pca = PCA(n_components=100, whiten=True).fit(X_train).transform(X_test)

# Train & evaluate model
model = GaussianNB().fit(X_train_pca, y_train)
y_pred = model.predict(X_test_pca)

print(f"\nAccuracy: {model.score(X_test_pca, y_test):.4f}")
print("\nClassification Report:\n", classification_report(y_test, y_pred))

# Confusion matrix heatmap
plt.figure(figsize=(10, 8))
sns.heatmap(confusion_matrix(y_test, y_pred), annot=True, fmt='d', cmap='Blues',
            xticklabels=np.arange(1, 41), yticklabels=np.arange(1, 41))
plt.xlabel('Predicted'); plt.ylabel('True'); plt.title('Confusion Matrix')
plt.tight_layout(); plt.show()

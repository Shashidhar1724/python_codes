
import pandas as pd
import matplotlib.pyplot as plt
from sklearn.model_selection import train_test_split
from sklearn.neighbors import KNeighborsClassifier
from sklearn.metrics import confusion_matrix, ConfusionMatrixDisplay


df = pd.read_csv("Iris.csv")
print(df.info())
print(df.head())

X = df.iloc[:, [1, 2]].values  # SepalLength and SepalWidth
y = df.iloc[:, -1].values      # Species

# Split dataset
X_train, X_test, y_train, y_test = train_test_split(X, y, test_size=0.2)

# Train k-NN classifier
knn = KNeighborsClassifier(n_neighbors=3)
knn.fit(X_train, y_train)

# Accuracy
print("Accuracy:", knn.score(X_test, y_test))

# Predict and compute confusion matrix
y_pred = knn.predict(X_test)
cm = confusion_matrix(y_test, y_pred)
disp = ConfusionMatrixDisplay(confusion_matrix=cm, display_labels=knn.classes_)
disp.plot()
plt.title("Confusion Matrix")
plt.show()

# Factorize for color plotting
y_color = pd.factorize(y)[0]

# Scatter plot
plt.scatter(X[:, 0], X[:, 1], c=y_color)
plt.xlabel("Sepal Length")
plt.ylabel("Sepal Width")
plt.title("k-NN Classification")
plt.grid(True)
plt.show()

import numpy as np
import pandas as pd
import matplotlib.pyplot as plt
from sklearn.decomposition import PCA
from sklearn.preprocessing import StandardScaler


df = pd.read_csv('housing.csv').dropna()
X = StandardScaler().fit_transform(df.select_dtypes(include='number'))


pca = PCA(n_components=2)
X_pca = pca.fit_transform(X)


df_pca = pd.DataFrame(X_pca, columns=['PC1', 'PC2'])
df_pca['ocean_proximity'] = df['ocean_proximity'].astype('category').cat.codes


plt.figure(figsize=(8,6))
plt.scatter(df_pca['PC1'], df_pca['PC2'], c=df_pca['ocean_proximity'], cmap='Set1', s=60)
plt.xlabel("PC1")
plt.ylabel("PC2")
plt.title("PCA of Housing Data")
plt.grid(True)


print("Variance ratio:", pca.explained_variance_ratio_)
print("Total variance explained:", np.sum(pca.explained_variance_ratio_))
print("Transformed shape:", X_pca.shape)

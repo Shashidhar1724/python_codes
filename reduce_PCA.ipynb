import numpy as np
import pandas as pd
import matplotlib.pyplot as plt
from sklearn.decomposition import PCA
from sklearn.preprocessing import StandardScaler
from sklearn.datasets import load_iris

# Load and standardize data
iris = load_iris()
X = StandardScaler().fit_transform(iris.data)

# Apply PCA
pca = PCA(n_components=2)
X_pca = pca.fit_transform(X)

# Create DataFrame with PCA results
df = pd.DataFrame(X_pca, columns=['PC1', 'PC2'])
df['target'] = iris.target
df['target_name'] = [iris.target_names[i] for i in iris.target]

# Plot
plt.figure(figsize=(8, 6))
plt.scatter(df['PC1'], df['PC2'], c=df['target'], cmap='Set1', s=60)
plt.xlabel("Principal Component 1")
plt.ylabel("Principal Component 2")
plt.title("PCA of Iris Dataset")
plt.grid(True)
plt.tight_layout()
plt.show()

# Explained variance
print("Explained variance ratio:", pca.explained_variance_ratio_)
print("Total variance explained:", np.sum(pca.explained_variance_ratio_))

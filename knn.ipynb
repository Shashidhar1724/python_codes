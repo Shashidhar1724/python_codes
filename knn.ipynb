from sklearn.datasets import load_iris 
from sklearn.neighbors import KNeighborsClassifier 
import numpy as np 
from sklearn.model_selection import train_test_split 
from sklearn.metrics import accuracy_score
import pandas as pd
data=load_iris()

iris_df = pd.DataFrame(data=data.data, columns=data.feature_names)
iris_df.info()
iris_df.head()

X=data.data
y=data.target
X_train,X_test,y_train,y_test=train_test_split(X,y,test_size=0.4,random_state=12)
knn=KNeighborsClassifier(n_neighbors=3)
knn.fit(X_train,y_train)    
y_pred=knn.predict(X_test)
accuracy=np.mean(y_pred==y_test)
#print("Accuracy:",accuracy)

print("Accuracy:", accuracy_score(y_test, y_pred))
for actual, pred in zip(y_test, y_pred):
    print(f"Actual: {actual} ({data.target_names[actual]}), Predicted: {pred} ({data.target_names[pred]})")

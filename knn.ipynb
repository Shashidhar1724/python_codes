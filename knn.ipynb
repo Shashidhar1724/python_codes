from sklearn.datasets import load_iris
from sklearn.model_selection import train_test_split
import numpy as np 
from sklearn.neighbors import KNeighborsClassifier
import pandas as pd

# Load dataset
iris = load_iris()
X_train, X_test, y_train, y_test = train_test_split(iris.data, iris.target, test_size=0.2)

iris_df = pd.DataFrame(data=iris.data, columns=iris.feature_names)
iris_df.info()
iris_df.head()

# Train k-NN
knn = KNeighborsClassifier(n_neighbors=3)
knn.fit(X_train, y_train)
y_pred=knn.predict(X_test)
accuracy=np.mean(y_pred==y_test)

print("Accuracy:", knn.score(X_test, y_test))
for actual, pred in zip(y_test, y_pred):
    print(f"Actual: {actual} ({iris.target_names[actual]}), Predicted: {pred} ({iris.target_names[pred]})")

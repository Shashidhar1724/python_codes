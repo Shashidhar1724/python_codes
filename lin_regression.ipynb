import numpy as np
import pandas as pd
import matplotlib.pyplot as plt
from sklearn.linear_model import LinearRegression
from sklearn.metrics import mean_absolute_error

# Load data
df = pd.read_csv('testdata.csv')
X = df.iloc[:, 1:2].values  # Temperature
y = df.iloc[:, 2].values    # Pressure

# Train model
model = LinearRegression()
model.fit(X, y)
predictions = model.predict(X)

# Plot
plt.scatter(X, y, color='red', label='Actual')
plt.scatter(X, predictions, color='blue', label='Predicted')
plt.title('Temperature vs Pressure')
plt.xlabel('Temperature')
plt.ylabel('Pressure')
plt.legend()
plt.grid(True, linestyle='--', alpha=0.5)
plt.show()

# Results
print(f"Slope: {model.coef_[0]:.4f}")
print(f"Intercept: {model.intercept_:.4f}")
print(f"MAE: {mean_absolute_error(y, predictions):.4f}")

# Predict for a new temperature
temp = np.array([[30]])
pred = model.predict(temp)
manual_pred = model.coef_[0] * temp + model.intercept_
print(f"Predicted pressure at {temp[0][0]}°C: {pred[0]:.4f}")
print(f"Manual calculation: {manual_pred[0][0]:.4f}")

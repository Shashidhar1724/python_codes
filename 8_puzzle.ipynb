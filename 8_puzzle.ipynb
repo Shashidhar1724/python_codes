from collections import deque

def inv(g):
    flat = [n for r in g for n in r if n]
    return sum(flat[i] > flat[j] for i in range(len(flat)) for j in range(i+1, len(flat)))

def flatten(g): return tuple(n for r in g for n in r)
def move(g, a, b):
    g = [r[:] for r in g]
    g[a[0]][a[1]], g[b[0]][b[1]] = g[b[0]][b[1]], g[a[0]][a[1]]
    return g

def print_g(g):
    for r in g: print(*r)
    print()

def bfs(start, empty, goal):
    q = deque([(start, empty, [])])
    seen = {flatten(start)}
    while q:
        g, (x, y), path = q.popleft()
        if g == goal:
            print(f"\nSolved in {len(path)} moves:\n")
            for step in path + [g]: print_g(step)
            return
        for dx, dy in [(1,0), (-1,0), (0,1), (0,-1)]:
            nx, ny = x+dx, y+dy
            if 0 <= nx < 3 and 0 <= ny < 3:
                ng = move(g, (x,y), (nx,ny))
                f = flatten(ng)
                if f not in seen:
                    seen.add(f)
                    q.append((ng, (nx,ny), path + [g]))

def check(s, g, e):
    si, gi = inv(s), inv(g)
    print("Start inversions:", si, "Goal inversions:", gi)
    if si % 2 == gi % 2:
        print("\nReachable:\n")
        bfs(s, e, g)
    else:
        print("\nNot reachable.\n")

start = [[8,6,7],[3,4,0],[1,5,2]]
goal  = [[1,2,3],[4,5,6],[7,8,0]]
empty = (1,2)

check(start, goal, empty)
